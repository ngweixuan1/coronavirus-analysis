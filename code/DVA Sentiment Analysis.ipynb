{
 "cells": [
  {
   "cell_type": "code",
   "execution_count": 1,
   "metadata": {},
   "outputs": [],
   "source": [
    "import pandas as pd\n",
    "import numpy as np\n",
    "import seaborn as sns"
   ]
  },
  {
   "cell_type": "code",
   "execution_count": 2,
   "metadata": {},
   "outputs": [
    {
     "data": {
      "text/html": [
       "<div>\n",
       "<style scoped>\n",
       "    .dataframe tbody tr th:only-of-type {\n",
       "        vertical-align: middle;\n",
       "    }\n",
       "\n",
       "    .dataframe tbody tr th {\n",
       "        vertical-align: top;\n",
       "    }\n",
       "\n",
       "    .dataframe thead th {\n",
       "        text-align: right;\n",
       "    }\n",
       "</style>\n",
       "<table border=\"1\" class=\"dataframe\">\n",
       "  <thead>\n",
       "    <tr style=\"text-align: right;\">\n",
       "      <th></th>\n",
       "      <th>ID</th>\n",
       "      <th>Sentiment Score</th>\n",
       "      <th>Date</th>\n",
       "      <th>Country</th>\n",
       "    </tr>\n",
       "  </thead>\n",
       "  <tbody>\n",
       "    <tr>\n",
       "      <th>0</th>\n",
       "      <td>1.250000e+18</td>\n",
       "      <td>-0.15625</td>\n",
       "      <td>04-10-2020</td>\n",
       "      <td>US</td>\n",
       "    </tr>\n",
       "    <tr>\n",
       "      <th>1</th>\n",
       "      <td>1.250000e+18</td>\n",
       "      <td>0.00000</td>\n",
       "      <td>04-10-2020</td>\n",
       "      <td>NP</td>\n",
       "    </tr>\n",
       "    <tr>\n",
       "      <th>2</th>\n",
       "      <td>1.250000e+18</td>\n",
       "      <td>0.01500</td>\n",
       "      <td>04-10-2020</td>\n",
       "      <td>IL</td>\n",
       "    </tr>\n",
       "    <tr>\n",
       "      <th>3</th>\n",
       "      <td>1.250000e+18</td>\n",
       "      <td>0.00000</td>\n",
       "      <td>04-10-2020</td>\n",
       "      <td>US</td>\n",
       "    </tr>\n",
       "    <tr>\n",
       "      <th>4</th>\n",
       "      <td>1.250000e+18</td>\n",
       "      <td>-0.25000</td>\n",
       "      <td>04-10-2020</td>\n",
       "      <td>US</td>\n",
       "    </tr>\n",
       "  </tbody>\n",
       "</table>\n",
       "</div>"
      ],
      "text/plain": [
       "             ID  Sentiment Score        Date Country\n",
       "0  1.250000e+18         -0.15625  04-10-2020      US\n",
       "1  1.250000e+18          0.00000  04-10-2020      NP\n",
       "2  1.250000e+18          0.01500  04-10-2020      IL\n",
       "3  1.250000e+18          0.00000  04-10-2020      US\n",
       "4  1.250000e+18         -0.25000  04-10-2020      US"
      ]
     },
     "execution_count": 2,
     "metadata": {},
     "output_type": "execute_result"
    }
   ],
   "source": [
    "sentiments = pd.read_csv(\"tweets1.csv\")\n",
    "sentiments.head()"
   ]
  },
  {
   "cell_type": "code",
   "execution_count": 3,
   "metadata": {},
   "outputs": [],
   "source": [
    "sentiments.loc[sentiments['Sentiment Score'] >= 0.2, 'Category'] = 'Positive'\n",
    "sentiments.loc[sentiments['Sentiment Score'] < 0.2, 'Category'] = 'Negative'"
   ]
  },
  {
   "cell_type": "code",
   "execution_count": 4,
   "metadata": {},
   "outputs": [
    {
     "data": {
      "text/html": [
       "<div>\n",
       "<style scoped>\n",
       "    .dataframe tbody tr th:only-of-type {\n",
       "        vertical-align: middle;\n",
       "    }\n",
       "\n",
       "    .dataframe tbody tr th {\n",
       "        vertical-align: top;\n",
       "    }\n",
       "\n",
       "    .dataframe thead th {\n",
       "        text-align: right;\n",
       "    }\n",
       "</style>\n",
       "<table border=\"1\" class=\"dataframe\">\n",
       "  <thead>\n",
       "    <tr style=\"text-align: right;\">\n",
       "      <th></th>\n",
       "      <th>ID</th>\n",
       "      <th>Sentiment Score</th>\n",
       "      <th>Date</th>\n",
       "      <th>Country</th>\n",
       "      <th>Category</th>\n",
       "    </tr>\n",
       "  </thead>\n",
       "  <tbody>\n",
       "    <tr>\n",
       "      <th>0</th>\n",
       "      <td>1.250000e+18</td>\n",
       "      <td>-0.15625</td>\n",
       "      <td>04-10-2020</td>\n",
       "      <td>US</td>\n",
       "      <td>Negative</td>\n",
       "    </tr>\n",
       "    <tr>\n",
       "      <th>1</th>\n",
       "      <td>1.250000e+18</td>\n",
       "      <td>0.00000</td>\n",
       "      <td>04-10-2020</td>\n",
       "      <td>NP</td>\n",
       "      <td>Negative</td>\n",
       "    </tr>\n",
       "    <tr>\n",
       "      <th>2</th>\n",
       "      <td>1.250000e+18</td>\n",
       "      <td>0.01500</td>\n",
       "      <td>04-10-2020</td>\n",
       "      <td>IL</td>\n",
       "      <td>Negative</td>\n",
       "    </tr>\n",
       "    <tr>\n",
       "      <th>3</th>\n",
       "      <td>1.250000e+18</td>\n",
       "      <td>0.00000</td>\n",
       "      <td>04-10-2020</td>\n",
       "      <td>US</td>\n",
       "      <td>Negative</td>\n",
       "    </tr>\n",
       "    <tr>\n",
       "      <th>4</th>\n",
       "      <td>1.250000e+18</td>\n",
       "      <td>-0.25000</td>\n",
       "      <td>04-10-2020</td>\n",
       "      <td>US</td>\n",
       "      <td>Negative</td>\n",
       "    </tr>\n",
       "  </tbody>\n",
       "</table>\n",
       "</div>"
      ],
      "text/plain": [
       "             ID  Sentiment Score        Date Country  Category\n",
       "0  1.250000e+18         -0.15625  04-10-2020      US  Negative\n",
       "1  1.250000e+18          0.00000  04-10-2020      NP  Negative\n",
       "2  1.250000e+18          0.01500  04-10-2020      IL  Negative\n",
       "3  1.250000e+18          0.00000  04-10-2020      US  Negative\n",
       "4  1.250000e+18         -0.25000  04-10-2020      US  Negative"
      ]
     },
     "execution_count": 4,
     "metadata": {},
     "output_type": "execute_result"
    }
   ],
   "source": [
    "sentiments.head()"
   ]
  },
  {
   "cell_type": "code",
   "execution_count": 5,
   "metadata": {},
   "outputs": [
    {
     "data": {
      "text/plain": [
       "<AxesSubplot:xlabel='Country', ylabel='count'>"
      ]
     },
     "execution_count": 5,
     "metadata": {},
     "output_type": "execute_result"
    },
    {
     "data": {
      "image/png": "[encoded data removed]",
      "text/plain": [
       "<Figure size 432x288 with 1 Axes>"
      ]
     },
     "metadata": {
      "needs_background": "light"
     },
     "output_type": "display_data"
    }
   ],
   "source": [
    "countries = sentiments['Country']\n",
    "sns.countplot(x=\"Country\", data=sentiments, order=pd.value_counts(sentiments['Country']).iloc[:30].index)"
   ]
  },
  {
   "cell_type": "code",
   "execution_count": 6,
   "metadata": {},
   "outputs": [
    {
     "data": {
      "text/plain": [
       "array(['US', 'NP', 'IL', nan, 'IN', 'GH', 'KE', 'CN', 'SE', 'PK', 'NL',\n",
       "       'ZA', 'GB', 'BY', 'BR', 'DK', 'DE', 'IE', 'FR', 'IT', 'JP', 'KR',\n",
       "       'AU', 'TR', 'NG', 'PL', 'RU', 'HU', 'ES', 'CH', 'TH', 'AE', 'PT',\n",
       "       'FI', 'YE', 'ID', 'OM', 'BW', 'MX', 'CA', 'GR', 'BE', 'MY', 'BD',\n",
       "       'JM', 'EG', 'EC', 'MA', 'VA', 'CM', 'ZW', 'NZ', 'LB', 'QA', 'SI',\n",
       "       'VN', 'LK', 'KW', 'HR', 'TN', 'IR', 'IQ', 'TZ', 'PH', 'KH', 'RW',\n",
       "       'SA', 'AT', 'SG', 'MG', 'PA', 'MC', 'SR', 'SL', 'WS', 'BS', 'MZ',\n",
       "       'SC', 'ZM', 'AQ', 'HK', 'CL', 'UG', 'BG', 'BT', 'CY', 'GL', 'MO',\n",
       "       'RS', 'TO', 'DZ', 'NO', 'BO', 'LS', 'JO', 'XK', 'GE', 'RO', 'BB',\n",
       "       'AR', 'SK', 'ET', 'MW', 'SO', 'BH', 'PG', 'TT', 'LT', 'LV', 'DO',\n",
       "       'BJ', 'UA', 'VE', 'CR', 'PE', 'UY', 'EE', 'CG', 'CZ', 'SY', 'CO',\n",
       "       'LU', 'ME', 'GY', 'SN', 'SZ', 'MU', 'MM', 'GT', 'GP', 'GU', 'TL',\n",
       "       'CD', 'CW', 'KP', 'TG', 'SV', 'LR', 'PR', 'CI', 'BM', 'ML', 'MT',\n",
       "       'TW', 'GD', 'BN', 'GF', 'AO', 'NI', 'BZ', 'AM', 'AW', 'MF', 'BA',\n",
       "       'KY', 'MV', 'AG', 'IM', 'IS', 'MK', 'HT', 'AF', 'GN', 'KN', 'PF',\n",
       "       'TC', 'VU', 'LA', 'MP', 'CV', 'AL', 'SX', 'FJ', 'BF', 'KG', 'CF',\n",
       "       'NE', 'DM', 'GI', 'HN', 'SB', 'AZ', 'BL', 'KZ', 'MN', 'GM', 'UZ',\n",
       "       'CU', 'LY', 'LC', 'BI', 'AD', 'TD', 'BQ', 'MQ', 'VC', 'FO', 'RE',\n",
       "       'TM', 'VI', 'VG', 'MD', 'PW', 'TF', 'PY', 'GG', 'JE', 'AI', 'MS',\n",
       "       'FM', 'TJ', 'MH'], dtype=object)"
      ]
     },
     "execution_count": 6,
     "metadata": {},
     "output_type": "execute_result"
    }
   ],
   "source": [
    "countries.unique()"
   ]
  },
  {
   "cell_type": "code",
   "execution_count": 7,
   "metadata": {},
   "outputs": [],
   "source": [
    "sentiments.Date = pd.to_datetime(sentiments.Date)\n",
    "df = sentiments.groupby(['Country', pd.Grouper(key='Date', freq='W-MON')])['Sentiment Score']\\\n",
    "        .mean()\\\n",
    "        .reset_index()\\\n",
    "        .sort_values('Date')"
   ]
  },
  {
   "cell_type": "code",
   "execution_count": 8,
   "metadata": {},
   "outputs": [],
   "source": [
    "df_pos = sentiments.loc[sentiments['Category'] == 'Positive']\\\n",
    "        .groupby(['Country', pd.Grouper(key='Date', freq='W-MON')])['ID']\\\n",
    "        .count()\\\n",
    "        .reset_index()\\\n",
    "        .sort_values('Date')"
   ]
  },
  {
   "cell_type": "code",
   "execution_count": 9,
   "metadata": {},
   "outputs": [
    {
     "data": {
      "text/html": [
       "<div>\n",
       "<style scoped>\n",
       "    .dataframe tbody tr th:only-of-type {\n",
       "        vertical-align: middle;\n",
       "    }\n",
       "\n",
       "    .dataframe tbody tr th {\n",
       "        vertical-align: top;\n",
       "    }\n",
       "\n",
       "    .dataframe thead th {\n",
       "        text-align: right;\n",
       "    }\n",
       "</style>\n",
       "<table border=\"1\" class=\"dataframe\">\n",
       "  <thead>\n",
       "    <tr style=\"text-align: right;\">\n",
       "      <th></th>\n",
       "      <th>Country</th>\n",
       "      <th>Date</th>\n",
       "      <th>Positive</th>\n",
       "    </tr>\n",
       "  </thead>\n",
       "  <tbody>\n",
       "    <tr>\n",
       "      <th>258</th>\n",
       "      <td>BJ</td>\n",
       "      <td>2020-03-23</td>\n",
       "      <td>1</td>\n",
       "    </tr>\n",
       "    <tr>\n",
       "      <th>281</th>\n",
       "      <td>BR</td>\n",
       "      <td>2020-03-23</td>\n",
       "      <td>10</td>\n",
       "    </tr>\n",
       "    <tr>\n",
       "      <th>2567</th>\n",
       "      <td>US</td>\n",
       "      <td>2020-03-23</td>\n",
       "      <td>420</td>\n",
       "    </tr>\n",
       "    <tr>\n",
       "      <th>435</th>\n",
       "      <td>CH</td>\n",
       "      <td>2020-03-23</td>\n",
       "      <td>5</td>\n",
       "    </tr>\n",
       "    <tr>\n",
       "      <th>1081</th>\n",
       "      <td>HT</td>\n",
       "      <td>2020-03-23</td>\n",
       "      <td>1</td>\n",
       "    </tr>\n",
       "  </tbody>\n",
       "</table>\n",
       "</div>"
      ],
      "text/plain": [
       "     Country       Date  Positive\n",
       "258       BJ 2020-03-23         1\n",
       "281       BR 2020-03-23        10\n",
       "2567      US 2020-03-23       420\n",
       "435       CH 2020-03-23         5\n",
       "1081      HT 2020-03-23         1"
      ]
     },
     "execution_count": 9,
     "metadata": {},
     "output_type": "execute_result"
    }
   ],
   "source": [
    "df_pos.columns = ['Country', 'Date', 'Positive']\n",
    "df_pos.head()"
   ]
  },
  {
   "cell_type": "code",
   "execution_count": 10,
   "metadata": {},
   "outputs": [],
   "source": [
    "df_neg = sentiments.loc[sentiments['Category'] == 'Negative']\\\n",
    "        .groupby(['Country', pd.Grouper(key='Date', freq='W-MON')])['ID']\\\n",
    "        .count()\\\n",
    "        .reset_index()\\\n",
    "        .sort_values('Date')"
   ]
  },
  {
   "cell_type": "code",
   "execution_count": 11,
   "metadata": {},
   "outputs": [
    {
     "data": {
      "text/html": [
       "<div>\n",
       "<style scoped>\n",
       "    .dataframe tbody tr th:only-of-type {\n",
       "        vertical-align: middle;\n",
       "    }\n",
       "\n",
       "    .dataframe tbody tr th {\n",
       "        vertical-align: top;\n",
       "    }\n",
       "\n",
       "    .dataframe thead th {\n",
       "        text-align: right;\n",
       "    }\n",
       "</style>\n",
       "<table border=\"1\" class=\"dataframe\">\n",
       "  <thead>\n",
       "    <tr style=\"text-align: right;\">\n",
       "      <th></th>\n",
       "      <th>Country</th>\n",
       "      <th>Date</th>\n",
       "      <th>Negative</th>\n",
       "    </tr>\n",
       "  </thead>\n",
       "  <tbody>\n",
       "    <tr>\n",
       "      <th>2145</th>\n",
       "      <td>MY</td>\n",
       "      <td>2020-03-23</td>\n",
       "      <td>5</td>\n",
       "    </tr>\n",
       "    <tr>\n",
       "      <th>1639</th>\n",
       "      <td>JP</td>\n",
       "      <td>2020-03-23</td>\n",
       "      <td>8</td>\n",
       "    </tr>\n",
       "    <tr>\n",
       "      <th>1625</th>\n",
       "      <td>JO</td>\n",
       "      <td>2020-03-23</td>\n",
       "      <td>1</td>\n",
       "    </tr>\n",
       "    <tr>\n",
       "      <th>325</th>\n",
       "      <td>BJ</td>\n",
       "      <td>2020-03-23</td>\n",
       "      <td>1</td>\n",
       "    </tr>\n",
       "    <tr>\n",
       "      <th>1590</th>\n",
       "      <td>JM</td>\n",
       "      <td>2020-03-23</td>\n",
       "      <td>6</td>\n",
       "    </tr>\n",
       "  </tbody>\n",
       "</table>\n",
       "</div>"
      ],
      "text/plain": [
       "     Country       Date  Negative\n",
       "2145      MY 2020-03-23         5\n",
       "1639      JP 2020-03-23         8\n",
       "1625      JO 2020-03-23         1\n",
       "325       BJ 2020-03-23         1\n",
       "1590      JM 2020-03-23         6"
      ]
     },
     "execution_count": 11,
     "metadata": {},
     "output_type": "execute_result"
    }
   ],
   "source": [
    "df_neg.columns = ['Country', 'Date', 'Negative']\n",
    "df_neg.head()"
   ]
  },
  {
   "cell_type": "code",
   "execution_count": 12,
   "metadata": {},
   "outputs": [],
   "source": [
    "df_final = pd.merge(pd.merge(df, df_pos, on=['Country', 'Date']), df_neg, on=['Country', 'Date'])"
   ]
  },
  {
   "cell_type": "code",
   "execution_count": 13,
   "metadata": {},
   "outputs": [
    {
     "data": {
      "text/html": [
       "<div>\n",
       "<style scoped>\n",
       "    .dataframe tbody tr th:only-of-type {\n",
       "        vertical-align: middle;\n",
       "    }\n",
       "\n",
       "    .dataframe tbody tr th {\n",
       "        vertical-align: top;\n",
       "    }\n",
       "\n",
       "    .dataframe thead th {\n",
       "        text-align: right;\n",
       "    }\n",
       "</style>\n",
       "<table border=\"1\" class=\"dataframe\">\n",
       "  <thead>\n",
       "    <tr style=\"text-align: right;\">\n",
       "      <th></th>\n",
       "      <th>Country</th>\n",
       "      <th>Date</th>\n",
       "      <th>Sentiment Score</th>\n",
       "      <th>Positive</th>\n",
       "      <th>Negative</th>\n",
       "    </tr>\n",
       "  </thead>\n",
       "  <tbody>\n",
       "    <tr>\n",
       "      <th>0</th>\n",
       "      <td>SG</td>\n",
       "      <td>2020-03-23</td>\n",
       "      <td>0.001042</td>\n",
       "      <td>1</td>\n",
       "      <td>3</td>\n",
       "    </tr>\n",
       "    <tr>\n",
       "      <th>1</th>\n",
       "      <td>BE</td>\n",
       "      <td>2020-03-23</td>\n",
       "      <td>0.044697</td>\n",
       "      <td>1</td>\n",
       "      <td>11</td>\n",
       "    </tr>\n",
       "    <tr>\n",
       "      <th>2</th>\n",
       "      <td>PH</td>\n",
       "      <td>2020-03-23</td>\n",
       "      <td>0.109584</td>\n",
       "      <td>6</td>\n",
       "      <td>8</td>\n",
       "    </tr>\n",
       "    <tr>\n",
       "      <th>3</th>\n",
       "      <td>NZ</td>\n",
       "      <td>2020-03-23</td>\n",
       "      <td>0.088574</td>\n",
       "      <td>2</td>\n",
       "      <td>8</td>\n",
       "    </tr>\n",
       "    <tr>\n",
       "      <th>4</th>\n",
       "      <td>GH</td>\n",
       "      <td>2020-03-23</td>\n",
       "      <td>0.018486</td>\n",
       "      <td>2</td>\n",
       "      <td>11</td>\n",
       "    </tr>\n",
       "  </tbody>\n",
       "</table>\n",
       "</div>"
      ],
      "text/plain": [
       "  Country       Date  Sentiment Score  Positive  Negative\n",
       "0      SG 2020-03-23         0.001042         1         3\n",
       "1      BE 2020-03-23         0.044697         1        11\n",
       "2      PH 2020-03-23         0.109584         6         8\n",
       "3      NZ 2020-03-23         0.088574         2         8\n",
       "4      GH 2020-03-23         0.018486         2        11"
      ]
     },
     "execution_count": 13,
     "metadata": {},
     "output_type": "execute_result"
    }
   ],
   "source": [
    "df_final.head()"
   ]
  },
  {
   "cell_type": "code",
   "execution_count": 14,
   "metadata": {},
   "outputs": [
    {
     "data": {
      "text/plain": [
       "13302"
      ]
     },
     "execution_count": 14,
     "metadata": {},
     "output_type": "execute_result"
    }
   ],
   "source": [
    "df_final['ratio'] = df_final['Positive']/df_final['Negative']\n",
    "df_final.size"
   ]
  },
  {
   "cell_type": "code",
   "execution_count": 15,
   "metadata": {},
   "outputs": [],
   "source": [
    "df_final.to_csv('final_op_sentiments_weekly.csv', index=False)"
   ]
  },
  {
   "cell_type": "markdown",
   "metadata": {},
   "source": [
    "## Daily Sentiment Extraction"
   ]
  },
  {
   "cell_type": "code",
   "execution_count": 16,
   "metadata": {},
   "outputs": [],
   "source": [
    "df = sentiments.groupby(['Country', 'Date'])['Sentiment Score']\\\n",
    "        .mean()\\\n",
    "        .reset_index()\\\n",
    "        .sort_values('Date')"
   ]
  },
  {
   "cell_type": "code",
   "execution_count": 17,
   "metadata": {},
   "outputs": [],
   "source": [
    "df_pos = sentiments.loc[sentiments['Category'] == 'Positive']\\\n",
    "        .groupby(['Country', 'Date'])['ID']\\\n",
    "        .count()\\\n",
    "        .reset_index()\\\n",
    "        .sort_values('Date')"
   ]
  },
  {
   "cell_type": "code",
   "execution_count": 18,
   "metadata": {},
   "outputs": [
    {
     "data": {
      "text/html": [
       "<div>\n",
       "<style scoped>\n",
       "    .dataframe tbody tr th:only-of-type {\n",
       "        vertical-align: middle;\n",
       "    }\n",
       "\n",
       "    .dataframe tbody tr th {\n",
       "        vertical-align: top;\n",
       "    }\n",
       "\n",
       "    .dataframe thead th {\n",
       "        text-align: right;\n",
       "    }\n",
       "</style>\n",
       "<table border=\"1\" class=\"dataframe\">\n",
       "  <thead>\n",
       "    <tr style=\"text-align: right;\">\n",
       "      <th></th>\n",
       "      <th>Country</th>\n",
       "      <th>Date</th>\n",
       "      <th>Positive</th>\n",
       "    </tr>\n",
       "  </thead>\n",
       "  <tbody>\n",
       "    <tr>\n",
       "      <th>7357</th>\n",
       "      <td>ZA</td>\n",
       "      <td>2020-03-21</td>\n",
       "      <td>1</td>\n",
       "    </tr>\n",
       "    <tr>\n",
       "      <th>3758</th>\n",
       "      <td>JM</td>\n",
       "      <td>2020-03-21</td>\n",
       "      <td>1</td>\n",
       "    </tr>\n",
       "    <tr>\n",
       "      <th>7560</th>\n",
       "      <td>ZM</td>\n",
       "      <td>2020-03-21</td>\n",
       "      <td>1</td>\n",
       "    </tr>\n",
       "    <tr>\n",
       "      <th>3981</th>\n",
       "      <td>KE</td>\n",
       "      <td>2020-03-21</td>\n",
       "      <td>3</td>\n",
       "    </tr>\n",
       "    <tr>\n",
       "      <th>4893</th>\n",
       "      <td>NG</td>\n",
       "      <td>2020-03-21</td>\n",
       "      <td>17</td>\n",
       "    </tr>\n",
       "  </tbody>\n",
       "</table>\n",
       "</div>"
      ],
      "text/plain": [
       "     Country       Date  Positive\n",
       "7357      ZA 2020-03-21         1\n",
       "3758      JM 2020-03-21         1\n",
       "7560      ZM 2020-03-21         1\n",
       "3981      KE 2020-03-21         3\n",
       "4893      NG 2020-03-21        17"
      ]
     },
     "execution_count": 18,
     "metadata": {},
     "output_type": "execute_result"
    }
   ],
   "source": [
    "df_pos.columns = ['Country', 'Date', 'Positive']\n",
    "df_pos.head()"
   ]
  },
  {
   "cell_type": "code",
   "execution_count": 19,
   "metadata": {},
   "outputs": [
    {
     "data": {
      "text/html": [
       "<div>\n",
       "<style scoped>\n",
       "    .dataframe tbody tr th:only-of-type {\n",
       "        vertical-align: middle;\n",
       "    }\n",
       "\n",
       "    .dataframe tbody tr th {\n",
       "        vertical-align: top;\n",
       "    }\n",
       "\n",
       "    .dataframe thead th {\n",
       "        text-align: right;\n",
       "    }\n",
       "</style>\n",
       "<table border=\"1\" class=\"dataframe\">\n",
       "  <thead>\n",
       "    <tr style=\"text-align: right;\">\n",
       "      <th></th>\n",
       "      <th>Country</th>\n",
       "      <th>Date</th>\n",
       "      <th>Negative</th>\n",
       "    </tr>\n",
       "  </thead>\n",
       "  <tbody>\n",
       "    <tr>\n",
       "      <th>2289</th>\n",
       "      <td>CV</td>\n",
       "      <td>2020-03-21</td>\n",
       "      <td>1</td>\n",
       "    </tr>\n",
       "    <tr>\n",
       "      <th>358</th>\n",
       "      <td>AT</td>\n",
       "      <td>2020-03-21</td>\n",
       "      <td>3</td>\n",
       "    </tr>\n",
       "    <tr>\n",
       "      <th>9386</th>\n",
       "      <td>SR</td>\n",
       "      <td>2020-03-21</td>\n",
       "      <td>1</td>\n",
       "    </tr>\n",
       "    <tr>\n",
       "      <th>3935</th>\n",
       "      <td>GU</td>\n",
       "      <td>2020-03-21</td>\n",
       "      <td>1</td>\n",
       "    </tr>\n",
       "    <tr>\n",
       "      <th>7460</th>\n",
       "      <td>NP</td>\n",
       "      <td>2020-03-21</td>\n",
       "      <td>1</td>\n",
       "    </tr>\n",
       "  </tbody>\n",
       "</table>\n",
       "</div>"
      ],
      "text/plain": [
       "     Country       Date  Negative\n",
       "2289      CV 2020-03-21         1\n",
       "358       AT 2020-03-21         3\n",
       "9386      SR 2020-03-21         1\n",
       "3935      GU 2020-03-21         1\n",
       "7460      NP 2020-03-21         1"
      ]
     },
     "execution_count": 19,
     "metadata": {},
     "output_type": "execute_result"
    }
   ],
   "source": [
    "df_neg = sentiments.loc[sentiments['Category'] == 'Negative']\\\n",
    "        .groupby(['Country', 'Date'])['ID']\\\n",
    "        .count()\\\n",
    "        .reset_index()\\\n",
    "        .sort_values('Date')\n",
    "df_neg.columns = ['Country', 'Date', 'Negative']\n",
    "df_neg.head()"
   ]
  },
  {
   "cell_type": "code",
   "execution_count": 20,
   "metadata": {},
   "outputs": [],
   "source": [
    "df_final = pd.merge(pd.merge(df, df_pos, on=['Country', 'Date']), df_neg, on=['Country', 'Date'])"
   ]
  },
  {
   "cell_type": "code",
   "execution_count": 21,
   "metadata": {},
   "outputs": [
    {
     "data": {
      "text/plain": [
       "33858"
      ]
     },
     "execution_count": 21,
     "metadata": {},
     "output_type": "execute_result"
    }
   ],
   "source": [
    "df_final['ratio'] = df_final['Positive']/df_final['Negative']\n",
    "df_final.size"
   ]
  },
  {
   "cell_type": "code",
   "execution_count": 22,
   "metadata": {},
   "outputs": [],
   "source": [
    "df_final.to_csv('final_op_sentiments_daily.csv', index=False)"
   ]
  },
  {
   "cell_type": "code",
   "execution_count": null,
   "metadata": {},
   "outputs": [],
   "source": []
  }
 ],
 "metadata": {
  "kernelspec": {
   "display_name": "Python 3",
   "language": "python",
   "name": "python3"
  },
  "language_info": {
   "codemirror_mode": {
    "name": "ipython",
    "version": 3
   },
   "file_extension": ".py",
   "mimetype": "text/x-python",
   "name": "python",
   "nbconvert_exporter": "python",
   "pygments_lexer": "ipython3",
   "version": "3.7.7"
  }
 },
 "nbformat": 4,
 "nbformat_minor": 4
}
